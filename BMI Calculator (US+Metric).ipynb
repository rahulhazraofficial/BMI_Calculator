{
 "cells": [
  {
   "cell_type": "markdown",
   "id": "913f569d",
   "metadata": {},
   "source": [
    "# BMI Calculator"
   ]
  },
  {
   "cell_type": "code",
   "execution_count": null,
   "id": "a3745593",
   "metadata": {},
   "outputs": [],
   "source": [
    "unit = input(\"Do you want to check your BMI in Metric unit or in US unit. \\nEnter 1 to calculate in Metric unit \\nEnter 2 to calculate in US unit\")\n",
    "\n",
    "if unit == '1':\n",
    "\n",
    "            name = input(\"Enter your name: \")\n",
    "            weight = float(input(\"Enter your weight in kgs: \"))\n",
    "            height = float(input(\"Enter your height in cms: \"))\n",
    "\n",
    "            BMI = ( weight / (height**2))*10000\n",
    "\n",
    "\n",
    "            print (\"\\nYour BMI is: \", BMI, \"kg per square meter\")\n",
    "\n",
    "            if BMI>0:\n",
    "                if (BMI<16):\n",
    "                    print(name +\", you are Severe Thinness\")\n",
    "                elif ((BMI>16) and (BMI<17.01)):\n",
    "                    print (name +\", you are Moderate Thinness\")\n",
    "                elif ((BMI>17) and (BMI<18.51)):\n",
    "                    print (name +\", you are Mild Thinness\")\n",
    "                elif ((BMI>18.50) and (BMI<25.01)):\n",
    "                    print(name + \", you are Normal\")\n",
    "                elif ((BMI>25) and (BMI<30.01)):  \n",
    "                    print(name + \", you are Overweight\")\n",
    "                elif((BMI>30) and (BMI<35.01)):\n",
    "                    print (name + \", you are Obese Class I\")\n",
    "                elif((BMI>35) and (BMI<40.01)):\n",
    "                    print (name + \", you are Obese Class II\")\n",
    "                elif((BMI>40) and (BMI<40.01)):\n",
    "                    print (name + \", you are Obese Class III\")\n",
    "                else:\n",
    "                    print(\"Please enter valid input\")\n",
    "            \n",
    "                \n",
    "elif unit == '2':\n",
    "            name = input(\"Enter your name: \")\n",
    "            weight = float(input(\"Enter your weight in pounds: \"))\n",
    "            height = float(input(\"Enter your height in inches: \"))\n",
    "\n",
    "            BMI = (( weight*703) / (height**2))\n",
    "\n",
    "\n",
    "            print (\"\\nYour BMI is: \", BMI, \"kg per square meter\")\n",
    "\n",
    "            if BMI>0:\n",
    "                if (BMI<16):\n",
    "                    print(name +\", you are Severe Thinness\")\n",
    "                elif ((BMI>16) and (BMI<17.01)):\n",
    "                    print (name +\", you are Moderate Thinness\")\n",
    "                elif ((BMI>17) and (BMI<18.51)):\n",
    "                    print (name +\", you are Mild Thinness\")\n",
    "                elif ((BMI>18.50) and (BMI<25.01)):\n",
    "                    print(name + \", you are Normal\")\n",
    "                elif ((BMI>25) and (BMI<30.01)):  \n",
    "                    print(name + \", you are Overweight\")\n",
    "                elif((BMI>30) and (BMI<35.01)):\n",
    "                    print (name + \", you are Obese Class I\")\n",
    "                elif((BMI>35) and (BMI<40.01)):\n",
    "                    print (name + \", you are Obese Class II\")\n",
    "                elif((BMI>40) and (BMI<40.01)):\n",
    "                    print (name + \", you are Obese Class III\")\n",
    "                else:\n",
    "                    print(\"Please enter valid input\")\n",
    "                    \n",
    "else:\n",
    "    print(\"Invalid Input. Please recheck\")"
   ]
  }
 ],
 "metadata": {
  "kernelspec": {
   "display_name": "Python 3 (ipykernel)",
   "language": "python",
   "name": "python3"
  },
  "language_info": {
   "codemirror_mode": {
    "name": "ipython",
    "version": 3
   },
   "file_extension": ".py",
   "mimetype": "text/x-python",
   "name": "python",
   "nbconvert_exporter": "python",
   "pygments_lexer": "ipython3",
   "version": "3.10.9"
  }
 },
 "nbformat": 4,
 "nbformat_minor": 5
}
